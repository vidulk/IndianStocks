{
 "cells": [
  {
   "cell_type": "markdown",
   "metadata": {},
   "source": [
    "This notebook connects to Angel Broking via it's free API with an account and pulls 15 minutes data for the nifty 200. Then saving and exiting session. \n",
    "\n",
    "All files used in this notebook are also uploaded in the same folder. \n",
    "\n",
    "If you do not understand pieces of code in other files, please look here as i have explained every step."
   ]
  },
  {
   "cell_type": "markdown",
   "metadata": {},
   "source": [
    "## Connect To Angel Broking via API call"
   ]
  },
  {
   "cell_type": "code",
   "execution_count": 1,
   "metadata": {},
   "outputs": [],
   "source": [
    "# package import statement\n",
    "from smartapi import SmartConnect #or from smartapi.smartConnect import SmartConnect\n",
    "#import smartapi.smartExceptions(for smartExceptions)\n",
    "\n",
    "#create object of call\n",
    "obj = SmartConnect(api_key=\"ef3Q6vdl\")\n",
    "                #optional\n",
    "                #access_token = \"your access token\",\n",
    "                #refresh_token = \"your refresh_token\")\n",
    "\n",
    "#login api call\n",
    "\n",
    "data = obj.generateSession(##username,##password) \n",
    "refreshToken = data['data']['refreshToken']\n",
    "\n",
    "#fetch the feedtoken\n",
    "feedToken = obj.getfeedToken()\n",
    "\n",
    "#fetch User Profile\n",
    "userProfile = obj.getProfile(refreshToken)"
   ]
  },
  {
   "cell_type": "markdown",
   "metadata": {},
   "source": [
    "### Every stock has an associated token, reading the token here"
   ]
  },
  {
   "cell_type": "code",
   "execution_count": 3,
   "metadata": {},
   "outputs": [
    {
     "data": {
      "text/html": [
       "<div>\n",
       "<style scoped>\n",
       "    .dataframe tbody tr th:only-of-type {\n",
       "        vertical-align: middle;\n",
       "    }\n",
       "\n",
       "    .dataframe tbody tr th {\n",
       "        vertical-align: top;\n",
       "    }\n",
       "\n",
       "    .dataframe thead th {\n",
       "        text-align: right;\n",
       "    }\n",
       "</style>\n",
       "<table border=\"1\" class=\"dataframe\">\n",
       "  <thead>\n",
       "    <tr style=\"text-align: right;\">\n",
       "      <th></th>\n",
       "      <th>token</th>\n",
       "      <th>symbol</th>\n",
       "      <th>name</th>\n",
       "      <th>expiry</th>\n",
       "      <th>strike</th>\n",
       "      <th>lotsize</th>\n",
       "      <th>instrumenttype</th>\n",
       "      <th>exch_seg</th>\n",
       "      <th>tick_size</th>\n",
       "    </tr>\n",
       "  </thead>\n",
       "  <tbody>\n",
       "    <tr>\n",
       "      <th>0</th>\n",
       "      <td>22197</td>\n",
       "      <td>737JH31-SG</td>\n",
       "      <td>737JH31</td>\n",
       "      <td></td>\n",
       "      <td>-1</td>\n",
       "      <td>100</td>\n",
       "      <td></td>\n",
       "      <td>NSE</td>\n",
       "      <td>1</td>\n",
       "    </tr>\n",
       "    <tr>\n",
       "      <th>1</th>\n",
       "      <td>2372</td>\n",
       "      <td>63PY26-SG</td>\n",
       "      <td>63PY26</td>\n",
       "      <td></td>\n",
       "      <td>-1</td>\n",
       "      <td>100</td>\n",
       "      <td></td>\n",
       "      <td>NSE</td>\n",
       "      <td>1</td>\n",
       "    </tr>\n",
       "    <tr>\n",
       "      <th>2</th>\n",
       "      <td>9698</td>\n",
       "      <td>UTDGR31P12-MF</td>\n",
       "      <td>UTDGR31P12</td>\n",
       "      <td></td>\n",
       "      <td>-1</td>\n",
       "      <td>1</td>\n",
       "      <td></td>\n",
       "      <td>NSE</td>\n",
       "      <td>1</td>\n",
       "    </tr>\n",
       "    <tr>\n",
       "      <th>3</th>\n",
       "      <td>6022</td>\n",
       "      <td>ABSLAMC-BL</td>\n",
       "      <td>ABSLAMC</td>\n",
       "      <td></td>\n",
       "      <td>-1</td>\n",
       "      <td>1</td>\n",
       "      <td></td>\n",
       "      <td>NSE</td>\n",
       "      <td>5</td>\n",
       "    </tr>\n",
       "    <tr>\n",
       "      <th>4</th>\n",
       "      <td>20054</td>\n",
       "      <td>IIFCL-N2</td>\n",
       "      <td>IIFCL</td>\n",
       "      <td></td>\n",
       "      <td>-1</td>\n",
       "      <td>1</td>\n",
       "      <td></td>\n",
       "      <td>NSE</td>\n",
       "      <td>1</td>\n",
       "    </tr>\n",
       "  </tbody>\n",
       "</table>\n",
       "</div>"
      ],
      "text/plain": [
       "   token         symbol        name expiry  strike  lotsize instrumenttype  \\\n",
       "0  22197     737JH31-SG     737JH31             -1      100                  \n",
       "1   2372      63PY26-SG      63PY26             -1      100                  \n",
       "2   9698  UTDGR31P12-MF  UTDGR31P12             -1        1                  \n",
       "3   6022     ABSLAMC-BL     ABSLAMC             -1        1                  \n",
       "4  20054       IIFCL-N2       IIFCL             -1        1                  \n",
       "\n",
       "  exch_seg  tick_size  \n",
       "0      NSE          1  \n",
       "1      NSE          1  \n",
       "2      NSE          1  \n",
       "3      NSE          5  \n",
       "4      NSE          1  "
      ]
     },
     "execution_count": 3,
     "metadata": {},
     "output_type": "execute_result"
    }
   ],
   "source": [
    "import pandas as pd\n",
    "\n",
    "all_symbols = pd.read_json(\"OpenAPIScripMaster.json\")\n",
    "all_symbols.head()"
   ]
  },
  {
   "cell_type": "markdown",
   "metadata": {},
   "source": [
    "### Getting a list of the nifty 200, this can be any list of stocks for which you want data"
   ]
  },
  {
   "cell_type": "code",
   "execution_count": 4,
   "metadata": {},
   "outputs": [
    {
     "data": {
      "text/plain": [
       "200"
      ]
     },
     "execution_count": 4,
     "metadata": {},
     "output_type": "execute_result"
    }
   ],
   "source": [
    "nifty200 = pd.read_csv('ind_nifty200list.csv')\n",
    "train_symbols = list(nifty200['Symbol'] + '-EQ')\n",
    "\n",
    "len(train_symbols)"
   ]
  },
  {
   "cell_type": "markdown",
   "metadata": {},
   "source": [
    "### Associating names with tokens"
   ]
  },
  {
   "cell_type": "code",
   "execution_count": 5,
   "metadata": {},
   "outputs": [],
   "source": [
    "nse_stocks = []\n",
    "for i in range(len(train_symbols)):\n",
    "    nse_stocks.append(all_symbols[(all_symbols.exch_seg == 'NSE') & (all_symbols['symbol'] == train_symbols[i])])\n",
    "\n",
    "token = {}\n",
    "for i in nse_stocks:\n",
    "    try:\n",
    "        t = (i['token'].values)[0]\n",
    "        sym = (i['symbol'].values)[0]\n",
    "        token[sym] = (t)\n",
    "    except:\n",
    "        pass"
   ]
  },
  {
   "cell_type": "code",
   "execution_count": 7,
   "metadata": {},
   "outputs": [
    {
     "name": "stdout",
     "output_type": "stream",
     "text": [
      "{'ACC-EQ': '22', 'AUBANK-EQ': '21238', 'AARTIIND-EQ': '7', 'ADANIENT-EQ': '25', 'ADANIGREEN-EQ': '3563', 'ADANIPORTS-EQ': '15083', 'ABCAPITAL-EQ': '21614', 'ABFRL-EQ': '30108', 'AJANTPHARM-EQ': '8124', 'APLLTD-EQ': '25328', 'ALKEM-EQ': '11703', 'AMARAJABAT-EQ': '100', 'AMBUJACEM-EQ': '1270', 'APOLLOHOSP-EQ': '157', 'APOLLOTYRE-EQ': '163', 'ASHOKLEY-EQ': '212', 'ASIANPAINT-EQ': '236', 'ASTRAL-EQ': '14418', 'AUROPHARMA-EQ': '275', 'DMART-EQ': '19913', 'AXISBANK-EQ': '5900', 'BAJAJ-AUTO-EQ': '16669', 'BAJFINANCE-EQ': '317', 'BAJAJFINSV-EQ': '16675', 'BAJAJHLDNG-EQ': '305', 'BALKRISIND-EQ': '335', 'BANDHANBNK-EQ': '2263', 'BANKBARODA-EQ': '4668', 'BANKINDIA-EQ': '4745', 'BATAINDIA-EQ': '371', 'BERGEPAINT-EQ': '404', 'BEL-EQ': '383', 'BHARATFORG-EQ': '422', 'BHEL-EQ': '438', 'BPCL-EQ': '526', 'BHARTIARTL-EQ': '10604', 'BIOCON-EQ': '11373', 'BOSCHLTD-EQ': '2181', 'BRITANNIA-EQ': '547', 'CADILAHC-EQ': '7929', 'CANBK-EQ': '10794', 'CASTROLIND-EQ': '1250', 'CHOLAFIN-EQ': '685', 'CIPLA-EQ': '694', 'CUB-EQ': '5701', 'COALINDIA-EQ': '20374', 'COFORGE-EQ': '11543', 'COLPAL-EQ': '15141', 'CONCOR-EQ': '4749', 'COROMANDEL-EQ': '739', 'CROMPTON-EQ': '17094', 'CUMMINSIND-EQ': '1901', 'DLF-EQ': '14732', 'DABUR-EQ': '772', 'DALBHARAT-EQ': '8075', 'DEEPAKNTR-EQ': '19943', 'DHANI-EQ': '15384', 'DIVISLAB-EQ': '10940', 'DIXON-EQ': '21690', 'LALPATHLAB-EQ': '11654', 'DRREDDY-EQ': '881', 'EICHERMOT-EQ': '910', 'EMAMILTD-EQ': '13517', 'ENDURANCE-EQ': '18822', 'ESCORTS-EQ': '958', 'EXIDEIND-EQ': '676', 'FEDERALBNK-EQ': '1023', 'FORTIS-EQ': '14592', 'GAIL-EQ': '4717', 'GLAND-EQ': '1186', 'GLENMARK-EQ': '7406', 'GODREJCP-EQ': '10099', 'GODREJIND-EQ': '10925', 'GODREJPROP-EQ': '17875', 'GRASIM-EQ': '1232', 'GUJGASLTD-EQ': '10599', 'GSPL-EQ': '13197', 'HCLTECH-EQ': '7229', 'HDFCAMC-EQ': '4244', 'HDFCBANK-EQ': '1333', 'HDFCLIFE-EQ': '467', 'HAVELLS-EQ': '9819', 'HEROMOTOCO-EQ': '1348', 'HINDALCO-EQ': '1363', 'HAL-EQ': '2303', 'HINDCOPPER-EQ': '17939', 'HINDPETRO-EQ': '1406', 'HINDUNILVR-EQ': '1394', 'HINDZINC-EQ': '1424', 'HDFC-EQ': '1330', 'ICICIBANK-EQ': '4963', 'ICICIGI-EQ': '21770', 'ICICIPRULI-EQ': '18652', 'ISEC-EQ': '2489', 'IDFCFIRSTB-EQ': '11184', 'ITC-EQ': '1660', 'INDIAMART-EQ': '10726', 'INDIANB-EQ': '14309', 'INDHOTEL-EQ': '1512', 'IOC-EQ': '1624', 'IRCTC-EQ': '13611', 'IRFC-EQ': '2029', 'IGL-EQ': '11262', 'INDUSTOWER-EQ': '29135', 'INDUSINDBK-EQ': '5258', 'NAUKRI-EQ': '13751', 'INFY-EQ': '1594', 'INDIGO-EQ': '11195', 'IPCALAB-EQ': '1633', 'JSWSTEEL-EQ': '11723', 'JINDALSTEL-EQ': '6733', 'JUBLFOOD-EQ': '18096', 'KOTAKBANK-EQ': '1922', 'L&TFH-EQ': '24948', 'LTTS-EQ': '18564', 'LICHSGFIN-EQ': '1997', 'LTI-EQ': '17818', 'LT-EQ': '11483', 'LAURUSLABS-EQ': '19234', 'LUPIN-EQ': '10440', 'MRF-EQ': '2277', 'MGL-EQ': '17534', 'M&MFIN-EQ': '13285', 'M&M-EQ': '2031', 'MANAPPURAM-EQ': '19061', 'MARICO-EQ': '4067', 'MARUTI-EQ': '10999', 'MFSL-EQ': '2142', 'MINDTREE-EQ': '14356', 'MPHASIS-EQ': '4503', 'MUTHOOTFIN-EQ': '23650', 'NATCOPHARM-EQ': '3918', 'NMDC-EQ': '15332', 'NTPC-EQ': '11630', 'NATIONALUM-EQ': '6364', 'NAVINFLUOR-EQ': '14672', 'NESTLEIND-EQ': '17963', 'NAM-INDIA-EQ': '357', 'OBEROIRLTY-EQ': '20242', 'ONGC-EQ': '2475', 'OIL-EQ': '17438', 'PIIND-EQ': '24184', 'PAGEIND-EQ': '14413', 'PETRONET-EQ': '11351', 'PFIZER-EQ': '2643', 'PIDILITIND-EQ': '2664', 'PEL-EQ': '2412', 'POLYCAB-EQ': '9590', 'PFC-EQ': '14299', 'POWERGRID-EQ': '14977', 'PRESTIGE-EQ': '20302', 'PGHH-EQ': '2535', 'PNB-EQ': '10666', 'RBLBANK-EQ': '18391', 'RECLTD-EQ': '15355', 'RELIANCE-EQ': '2885', 'SBICARD-EQ': '17971', 'SBILIFE-EQ': '21808', 'SRF-EQ': '3273', 'SANOFI-EQ': '1442', 'SHREECEM-EQ': '3103', 'SRTRANSFIN-EQ': '4306', 'SIEMENS-EQ': '3150', 'SONACOMS-EQ': '4684', 'SBIN-EQ': '3045', 'SAIL-EQ': '2963', 'SUNPHARMA-EQ': '3351', 'SUNTV-EQ': '13404', 'SYNGENE-EQ': '10243', 'TVSMOTOR-EQ': '8479', 'TATACHEM-EQ': '3405', 'TATACOMM-EQ': '3721', 'TCS-EQ': '11536', 'TATACONSUM-EQ': '3432', 'TATAELXSI-EQ': '3411', 'TATAMOTORS-EQ': '3456', 'TATAPOWER-EQ': '3426', 'TATASTEEL-EQ': '3499', 'TECHM-EQ': '13538', 'RAMCOCEM-EQ': '2043', 'TITAN-EQ': '3506', 'TORNTPHARM-EQ': '3518', 'TORNTPOWER-EQ': '13786', 'TRENT-EQ': '1964', 'UPL-EQ': '11287', 'ULTRACEMCO-EQ': '11532', 'UNIONBANK-EQ': '10753', 'UBL-EQ': '16713', 'MCDOWELL-N-EQ': '10447', 'VBL-EQ': '18921', 'VEDL-EQ': '3063', 'IDEA-EQ': '14366', 'VOLTAS-EQ': '3718', 'WHIRLPOOL-EQ': '18011', 'WIPRO-EQ': '3787', 'YESBANK-EQ': '11915', 'ZEEL-EQ': '3812'}\n"
     ]
    }
   ],
   "source": [
    "print(token)"
   ]
  },
  {
   "cell_type": "markdown",
   "metadata": {},
   "source": [
    "### How far back do you want data for, look at API docs for details"
   ]
  },
  {
   "cell_type": "code",
   "execution_count": 8,
   "metadata": {},
   "outputs": [
    {
     "data": {
      "text/plain": [
       "'2022-07-12 09:00'"
      ]
     },
     "execution_count": 8,
     "metadata": {},
     "output_type": "execute_result"
    }
   ],
   "source": [
    "from datetime import date, timedelta\n",
    "\n",
    "today = str(date.today()- timedelta(days = 1))\n",
    "today += \" 09:00\"\n",
    "prev_15 = str(date.today() - timedelta(days = 200)) + ' 09:00'\n",
    "# prev_D = str(date.today() - timedelta(days = 120)) + ' 09:00'\n",
    "\n",
    "today"
   ]
  },
  {
   "cell_type": "markdown",
   "metadata": {},
   "source": [
    "## Pulling 15 min data"
   ]
  },
  {
   "cell_type": "code",
   "execution_count": 10,
   "metadata": {},
   "outputs": [
    {
     "name": "stdout",
     "output_type": "stream",
     "text": [
      "Historic Api failed: 21238\n",
      "Historic Api failed: 1633\n",
      "Historic Api failed: 2643\n",
      "Historic Api failed: 2664\n",
      "Historic Api failed: 2535\n",
      "Historic Api failed: 1442\n",
      "Historic Api failed: 18921\n"
     ]
    }
   ],
   "source": [
    "import time\n",
    "\n",
    "all_data_15 = []\n",
    "all_t = []\n",
    "for t in token.values():    \n",
    "    #Historic api\n",
    "    #time.sleep(.1)\n",
    "    try:\n",
    "        historicParam={\n",
    "            \"exchange\": \"NSE\",\n",
    "            \"symboltoken\": str(t),\n",
    "            \"interval\": \"FIFTEEN_MINUTE\",\n",
    "            \"fromdate\": prev_15,\n",
    "            \"todate\": today\n",
    "        }\n",
    "        hist = obj.getCandleData(historicParam)\n",
    "        ## to make sure all dfs are same length\n",
    "        # print(len(hist['data']))\n",
    "        if(len(hist['data']) > 0):\n",
    "\n",
    "            all_t.append(t)\n",
    "            all_data_15.append(hist)\n",
    "        else:\n",
    "            print(\"Historic Api failed: {}\".format(t))\n",
    "    except Exception as e:\n",
    "        print(\"Historic Api failed: {}\".format(e))\n"
   ]
  },
  {
   "cell_type": "markdown",
   "metadata": {},
   "source": [
    "## Converting into readable format"
   ]
  },
  {
   "cell_type": "code",
   "execution_count": 12,
   "metadata": {},
   "outputs": [],
   "source": [
    "import numpy as np\n",
    "\n",
    "for i in range(len(all_data_15)):\n",
    "    try:\n",
    "        all_data_15[i] = pd.DataFrame(all_data_15[i]['data'])\n",
    "    except:\n",
    "        pass\n",
    "\n",
    "    real_names = ['timestamp', 'open', 'high', 'low', 'close', 'volume']\n",
    "\n",
    "    all_data_15[i].columns = real_names\n",
    "\n",
    "    all_data_15[i]['timestamp'] = pd.to_datetime(all_data_15[i]['timestamp'])\n",
    "    vals = list(token.values()).index(all_t[i])\n",
    "    all_data_15[i]['stock'] = list(token.keys())[vals]"
   ]
  },
  {
   "cell_type": "code",
   "execution_count": 13,
   "metadata": {},
   "outputs": [
    {
     "data": {
      "text/html": [
       "<div>\n",
       "<style scoped>\n",
       "    .dataframe tbody tr th:only-of-type {\n",
       "        vertical-align: middle;\n",
       "    }\n",
       "\n",
       "    .dataframe tbody tr th {\n",
       "        vertical-align: top;\n",
       "    }\n",
       "\n",
       "    .dataframe thead th {\n",
       "        text-align: right;\n",
       "    }\n",
       "</style>\n",
       "<table border=\"1\" class=\"dataframe\">\n",
       "  <thead>\n",
       "    <tr style=\"text-align: right;\">\n",
       "      <th></th>\n",
       "      <th>timestamp</th>\n",
       "      <th>open</th>\n",
       "      <th>high</th>\n",
       "      <th>low</th>\n",
       "      <th>close</th>\n",
       "      <th>volume</th>\n",
       "      <th>stock</th>\n",
       "    </tr>\n",
       "  </thead>\n",
       "  <tbody>\n",
       "    <tr>\n",
       "      <th>0</th>\n",
       "      <td>2022-01-13 09:15:00+05:30</td>\n",
       "      <td>2323.00</td>\n",
       "      <td>2325.45</td>\n",
       "      <td>2304.0</td>\n",
       "      <td>2306.15</td>\n",
       "      <td>25250</td>\n",
       "      <td>ACC-EQ</td>\n",
       "    </tr>\n",
       "    <tr>\n",
       "      <th>1</th>\n",
       "      <td>2022-01-13 09:30:00+05:30</td>\n",
       "      <td>2306.15</td>\n",
       "      <td>2316.55</td>\n",
       "      <td>2305.7</td>\n",
       "      <td>2310.30</td>\n",
       "      <td>10827</td>\n",
       "      <td>ACC-EQ</td>\n",
       "    </tr>\n",
       "    <tr>\n",
       "      <th>2</th>\n",
       "      <td>2022-01-13 09:45:00+05:30</td>\n",
       "      <td>2310.00</td>\n",
       "      <td>2314.75</td>\n",
       "      <td>2309.0</td>\n",
       "      <td>2310.75</td>\n",
       "      <td>6726</td>\n",
       "      <td>ACC-EQ</td>\n",
       "    </tr>\n",
       "    <tr>\n",
       "      <th>3</th>\n",
       "      <td>2022-01-13 10:00:00+05:30</td>\n",
       "      <td>2310.00</td>\n",
       "      <td>2311.55</td>\n",
       "      <td>2298.5</td>\n",
       "      <td>2301.00</td>\n",
       "      <td>13934</td>\n",
       "      <td>ACC-EQ</td>\n",
       "    </tr>\n",
       "    <tr>\n",
       "      <th>4</th>\n",
       "      <td>2022-01-13 10:15:00+05:30</td>\n",
       "      <td>2300.45</td>\n",
       "      <td>2307.40</td>\n",
       "      <td>2298.2</td>\n",
       "      <td>2304.05</td>\n",
       "      <td>6619</td>\n",
       "      <td>ACC-EQ</td>\n",
       "    </tr>\n",
       "  </tbody>\n",
       "</table>\n",
       "</div>"
      ],
      "text/plain": [
       "                  timestamp     open     high     low    close  volume   stock\n",
       "0 2022-01-13 09:15:00+05:30  2323.00  2325.45  2304.0  2306.15   25250  ACC-EQ\n",
       "1 2022-01-13 09:30:00+05:30  2306.15  2316.55  2305.7  2310.30   10827  ACC-EQ\n",
       "2 2022-01-13 09:45:00+05:30  2310.00  2314.75  2309.0  2310.75    6726  ACC-EQ\n",
       "3 2022-01-13 10:00:00+05:30  2310.00  2311.55  2298.5  2301.00   13934  ACC-EQ\n",
       "4 2022-01-13 10:15:00+05:30  2300.45  2307.40  2298.2  2304.05    6619  ACC-EQ"
      ]
     },
     "execution_count": 13,
     "metadata": {},
     "output_type": "execute_result"
    }
   ],
   "source": [
    "all_data_15[0].head()"
   ]
  },
  {
   "cell_type": "markdown",
   "metadata": {},
   "source": [
    "## Scaling the Data (Optional)"
   ]
  },
  {
   "cell_type": "code",
   "execution_count": 19,
   "metadata": {},
   "outputs": [],
   "source": [
    "from sklearn.preprocessing import StandardScaler\n",
    "scaled_dat = []\n",
    "\n",
    "for i in range(len(all_data_15)):\n",
    "    try:\n",
    "        del all_data_15[i]['timestamp']    \n",
    "    except:\n",
    "        pass\n",
    "    scaler = StandardScaler()\n",
    "    \n",
    "    all_data_15[i].iloc[:,:-2] = pd.DataFrame(scaler.fit_transform(all_data_15[i].iloc[:,:-2]))\n",
    "    scaled_dat.append(scaler)"
   ]
  },
  {
   "cell_type": "code",
   "execution_count": 20,
   "metadata": {},
   "outputs": [
    {
     "data": {
      "text/html": [
       "<div>\n",
       "<style scoped>\n",
       "    .dataframe tbody tr th:only-of-type {\n",
       "        vertical-align: middle;\n",
       "    }\n",
       "\n",
       "    .dataframe tbody tr th {\n",
       "        vertical-align: top;\n",
       "    }\n",
       "\n",
       "    .dataframe thead th {\n",
       "        text-align: right;\n",
       "    }\n",
       "</style>\n",
       "<table border=\"1\" class=\"dataframe\">\n",
       "  <thead>\n",
       "    <tr style=\"text-align: right;\">\n",
       "      <th></th>\n",
       "      <th>open</th>\n",
       "      <th>high</th>\n",
       "      <th>low</th>\n",
       "      <th>close</th>\n",
       "      <th>volume</th>\n",
       "      <th>stock</th>\n",
       "      <th>pivot</th>\n",
       "    </tr>\n",
       "  </thead>\n",
       "  <tbody>\n",
       "    <tr>\n",
       "      <th>0</th>\n",
       "      <td>2.437291</td>\n",
       "      <td>2.476657</td>\n",
       "      <td>2.461127</td>\n",
       "      <td>2.494158</td>\n",
       "      <td>-0.019218</td>\n",
       "      <td>ZEEL-EQ</td>\n",
       "      <td>-1</td>\n",
       "    </tr>\n",
       "    <tr>\n",
       "      <th>1</th>\n",
       "      <td>2.489343</td>\n",
       "      <td>2.495745</td>\n",
       "      <td>2.518508</td>\n",
       "      <td>2.509793</td>\n",
       "      <td>-0.272269</td>\n",
       "      <td>ZEEL-EQ</td>\n",
       "      <td>1</td>\n",
       "    </tr>\n",
       "    <tr>\n",
       "      <th>2</th>\n",
       "      <td>2.506694</td>\n",
       "      <td>2.500951</td>\n",
       "      <td>2.481993</td>\n",
       "      <td>2.455941</td>\n",
       "      <td>-0.250040</td>\n",
       "      <td>ZEEL-EQ</td>\n",
       "      <td>0</td>\n",
       "    </tr>\n",
       "    <tr>\n",
       "      <th>3</th>\n",
       "      <td>2.444232</td>\n",
       "      <td>2.421130</td>\n",
       "      <td>2.382880</td>\n",
       "      <td>2.414249</td>\n",
       "      <td>0.087342</td>\n",
       "      <td>ZEEL-EQ</td>\n",
       "      <td>0</td>\n",
       "    </tr>\n",
       "    <tr>\n",
       "      <th>4</th>\n",
       "      <td>2.406060</td>\n",
       "      <td>2.407248</td>\n",
       "      <td>2.429828</td>\n",
       "      <td>2.433358</td>\n",
       "      <td>-0.322732</td>\n",
       "      <td>ZEEL-EQ</td>\n",
       "      <td>0</td>\n",
       "    </tr>\n",
       "    <tr>\n",
       "      <th>...</th>\n",
       "      <td>...</td>\n",
       "      <td>...</td>\n",
       "      <td>...</td>\n",
       "      <td>...</td>\n",
       "      <td>...</td>\n",
       "      <td>...</td>\n",
       "      <td>...</td>\n",
       "    </tr>\n",
       "    <tr>\n",
       "      <th>3045</th>\n",
       "      <td>-1.071006</td>\n",
       "      <td>-1.082305</td>\n",
       "      <td>-1.051298</td>\n",
       "      <td>-1.079159</td>\n",
       "      <td>-0.434961</td>\n",
       "      <td>ZEEL-EQ</td>\n",
       "      <td>0</td>\n",
       "    </tr>\n",
       "    <tr>\n",
       "      <th>3046</th>\n",
       "      <td>-1.069271</td>\n",
       "      <td>-1.087511</td>\n",
       "      <td>-1.080858</td>\n",
       "      <td>-1.093056</td>\n",
       "      <td>-0.405430</td>\n",
       "      <td>ZEEL-EQ</td>\n",
       "      <td>0</td>\n",
       "    </tr>\n",
       "    <tr>\n",
       "      <th>3047</th>\n",
       "      <td>-1.091827</td>\n",
       "      <td>-1.101393</td>\n",
       "      <td>-1.079119</td>\n",
       "      <td>-1.091319</td>\n",
       "      <td>-0.378625</td>\n",
       "      <td>ZEEL-EQ</td>\n",
       "      <td>0</td>\n",
       "    </tr>\n",
       "    <tr>\n",
       "      <th>3048</th>\n",
       "      <td>-1.090092</td>\n",
       "      <td>-1.089246</td>\n",
       "      <td>-1.073903</td>\n",
       "      <td>-1.101742</td>\n",
       "      <td>-0.211742</td>\n",
       "      <td>ZEEL-EQ</td>\n",
       "      <td>0</td>\n",
       "    </tr>\n",
       "    <tr>\n",
       "      <th>3049</th>\n",
       "      <td>-1.098767</td>\n",
       "      <td>-1.118745</td>\n",
       "      <td>-1.087814</td>\n",
       "      <td>-1.093056</td>\n",
       "      <td>-0.149696</td>\n",
       "      <td>ZEEL-EQ</td>\n",
       "      <td>-1</td>\n",
       "    </tr>\n",
       "  </tbody>\n",
       "</table>\n",
       "<p>3050 rows × 7 columns</p>\n",
       "</div>"
      ],
      "text/plain": [
       "          open      high       low     close    volume    stock  pivot\n",
       "0     2.437291  2.476657  2.461127  2.494158 -0.019218  ZEEL-EQ     -1\n",
       "1     2.489343  2.495745  2.518508  2.509793 -0.272269  ZEEL-EQ      1\n",
       "2     2.506694  2.500951  2.481993  2.455941 -0.250040  ZEEL-EQ      0\n",
       "3     2.444232  2.421130  2.382880  2.414249  0.087342  ZEEL-EQ      0\n",
       "4     2.406060  2.407248  2.429828  2.433358 -0.322732  ZEEL-EQ      0\n",
       "...        ...       ...       ...       ...       ...      ...    ...\n",
       "3045 -1.071006 -1.082305 -1.051298 -1.079159 -0.434961  ZEEL-EQ      0\n",
       "3046 -1.069271 -1.087511 -1.080858 -1.093056 -0.405430  ZEEL-EQ      0\n",
       "3047 -1.091827 -1.101393 -1.079119 -1.091319 -0.378625  ZEEL-EQ      0\n",
       "3048 -1.090092 -1.089246 -1.073903 -1.101742 -0.211742  ZEEL-EQ      0\n",
       "3049 -1.098767 -1.118745 -1.087814 -1.093056 -0.149696  ZEEL-EQ     -1\n",
       "\n",
       "[3050 rows x 7 columns]"
      ]
     },
     "execution_count": 20,
     "metadata": {},
     "output_type": "execute_result"
    }
   ],
   "source": [
    "all_data_15[i]"
   ]
  },
  {
   "cell_type": "markdown",
   "metadata": {},
   "source": [
    "## Save using pickle"
   ]
  },
  {
   "cell_type": "code",
   "execution_count": 21,
   "metadata": {},
   "outputs": [],
   "source": [
    "import pickle\n",
    "\n",
    "with open(\"test\", \"wb\") as fp:\n",
    "    pickle.dump(all_data_15, fp)"
   ]
  },
  {
   "cell_type": "code",
   "execution_count": null,
   "metadata": {},
   "outputs": [],
   "source": [
    "import pickle\n",
    "\n",
    "with open(\"scales\", \"wb\") as fp:\n",
    "    pickle.dump(scaled_dat, fp)"
   ]
  },
  {
   "cell_type": "markdown",
   "metadata": {},
   "source": [
    "## Log Out"
   ]
  },
  {
   "cell_type": "code",
   "execution_count": 37,
   "metadata": {},
   "outputs": [],
   "source": [
    "#logout\n",
    "try:\n",
    "    logout=obj.terminateSession('Your Client Id')\n",
    "    print(\"Logout Successfull\")\n",
    "except Exception as e:\n",
    "    print(\"Logout failed: {}\".format(e.message))"
   ]
  }
 ],
 "metadata": {
  "interpreter": {
   "hash": "fb2d2ab0e38901882108eb4a3718ada65b32a43f95a1eda92127ecc00b53ec35"
  },
  "kernelspec": {
   "display_name": "Python 3.7.9 64-bit",
   "language": "python",
   "name": "python3"
  },
  "language_info": {
   "codemirror_mode": {
    "name": "ipython",
    "version": 3
   },
   "file_extension": ".py",
   "mimetype": "text/x-python",
   "name": "python",
   "nbconvert_exporter": "python",
   "pygments_lexer": "ipython3",
   "version": "3.7.9"
  },
  "orig_nbformat": 4
 },
 "nbformat": 4,
 "nbformat_minor": 2
}
